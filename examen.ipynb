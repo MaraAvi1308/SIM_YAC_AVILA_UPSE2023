{
  "nbformat": 4,
  "nbformat_minor": 0,
  "metadata": {
    "colab": {
      "provenance": [],
      "authorship_tag": "ABX9TyPfR8VU2zgERdi5YRlNeSL7",
      "include_colab_link": true
    },
    "kernelspec": {
      "name": "python3",
      "display_name": "Python 3"
    },
    "language_info": {
      "name": "python"
    }
  },
  "cells": [
    {
      "cell_type": "markdown",
      "metadata": {
        "id": "view-in-github",
        "colab_type": "text"
      },
      "source": [
        "<a href=\"https://colab.research.google.com/github/MaraAvi1308/SIM_YAC_AVILA_UPSE2023/blob/main/examen.ipynb\" target=\"_parent\"><img src=\"https://colab.research.google.com/assets/colab-badge.svg\" alt=\"Open In Colab\"/></a>"
      ]
    },
    {
      "cell_type": "code",
      "execution_count": 1,
      "metadata": {
        "id": "9hueeRXdvhyi"
      },
      "outputs": [],
      "source": [
        "import numpy as np\n",
        "import math"
      ]
    },
    {
      "cell_type": "code",
      "source": [
        "#datos\n",
        "L=30000\n",
        "dx=15000\n",
        "Tiempo=100\n",
        "DT=1\n",
        "K=50\n",
        "por=0.5\n",
        "vis=1\n",
        "B=0.7\n",
        "CompTotal=1.2*10**(-6)\n",
        "A=200000\n",
        "Pin=0\n"
      ],
      "metadata": {
        "id": "LAbrYd2dvo1A"
      },
      "execution_count": 11,
      "outputs": []
    },
    {
      "cell_type": "code",
      "source": [
        "Alpha=K/(vis*por*CompTotal)\n",
        "Alpha\n",
        "Eta=(Alpha*DT)/(dx**2)\n",
        "Eta"
      ],
      "metadata": {
        "colab": {
          "base_uri": "https://localhost:8080/"
        },
        "id": "Od2KcRI4wOB7",
        "outputId": "17c9e8f9-f3b1-48b4-cc6c-8cf49aa51220"
      },
      "execution_count": 12,
      "outputs": [
        {
          "output_type": "execute_result",
          "data": {
            "text/plain": [
              "0.3703703703703704"
            ]
          },
          "metadata": {},
          "execution_count": 12
        }
      ]
    },
    {
      "cell_type": "code",
      "source": [
        "#Creacion de matrices\n",
        "Pexpl=np.zeros((Tiempo//DT)),((L//dx)+2)\n",
        "Qexpli=np.zeros((Tiempo//DT)),((L//dx))"
      ],
      "metadata": {
        "id": "QCvoF8OXwwST"
      },
      "execution_count": 13,
      "outputs": []
    },
    {
      "cell_type": "code",
      "source": [
        "#Condiciones iniciales\n",
        "P0=2000 #nodo\n",
        "Pb1=7000 #borde\n",
        "P1=2*Pb1-P0\n",
        "Piz=0\n",
        "Pder=0\n",
        "Pin=np.zeros((L//dx)+2)\n",
        "Pres=np.zeros((L//dx)+2)\n",
        "for i in range(0,len(Pin)-1):\n",
        "  Pin[i]=P1\n",
        "  Pin[0]=Piz\n",
        "  Pin[1]=P0\n",
        "  Pin[len(Pin)-1]=(2*Pder)-Pin[len(pin)-2]\n",
        "  Pin=Pin\n"
      ],
      "metadata": {
        "colab": {
          "base_uri": "https://localhost:8080/",
          "height": 217
        },
        "id": "qOtcMjKgxPJ4",
        "outputId": "7b9d381d-fb20-430b-88b6-105d248e921d"
      },
      "execution_count": 14,
      "outputs": [
        {
          "output_type": "error",
          "ename": "NameError",
          "evalue": "ignored",
          "traceback": [
            "\u001b[0;31m---------------------------------------------------------------------------\u001b[0m",
            "\u001b[0;31mNameError\u001b[0m                                 Traceback (most recent call last)",
            "\u001b[0;32m<ipython-input-14-133c4d0bee6d>\u001b[0m in \u001b[0;36m<cell line: 9>\u001b[0;34m()\u001b[0m\n\u001b[1;32m     11\u001b[0m   \u001b[0mPin\u001b[0m\u001b[0;34m[\u001b[0m\u001b[0;36m0\u001b[0m\u001b[0;34m]\u001b[0m\u001b[0;34m=\u001b[0m\u001b[0mPiz\u001b[0m\u001b[0;34m\u001b[0m\u001b[0;34m\u001b[0m\u001b[0m\n\u001b[1;32m     12\u001b[0m   \u001b[0mPin\u001b[0m\u001b[0;34m[\u001b[0m\u001b[0;36m1\u001b[0m\u001b[0;34m]\u001b[0m\u001b[0;34m=\u001b[0m\u001b[0mP0\u001b[0m\u001b[0;34m\u001b[0m\u001b[0;34m\u001b[0m\u001b[0m\n\u001b[0;32m---> 13\u001b[0;31m   \u001b[0mPin\u001b[0m\u001b[0;34m[\u001b[0m\u001b[0mlen\u001b[0m\u001b[0;34m(\u001b[0m\u001b[0mPin\u001b[0m\u001b[0;34m)\u001b[0m\u001b[0;34m-\u001b[0m\u001b[0;36m1\u001b[0m\u001b[0;34m]\u001b[0m\u001b[0;34m=\u001b[0m\u001b[0;34m(\u001b[0m\u001b[0;36m2\u001b[0m\u001b[0;34m*\u001b[0m\u001b[0mPder\u001b[0m\u001b[0;34m)\u001b[0m\u001b[0;34m-\u001b[0m\u001b[0mPin\u001b[0m\u001b[0;34m[\u001b[0m\u001b[0mlen\u001b[0m\u001b[0;34m(\u001b[0m\u001b[0mpin\u001b[0m\u001b[0;34m)\u001b[0m\u001b[0;34m-\u001b[0m\u001b[0;36m2\u001b[0m\u001b[0;34m]\u001b[0m\u001b[0;34m\u001b[0m\u001b[0;34m\u001b[0m\u001b[0m\n\u001b[0m\u001b[1;32m     14\u001b[0m   \u001b[0mPin\u001b[0m\u001b[0;34m=\u001b[0m\u001b[0mPin\u001b[0m\u001b[0;34m\u001b[0m\u001b[0;34m\u001b[0m\u001b[0m\n",
            "\u001b[0;31mNameError\u001b[0m: name 'pin' is not defined"
          ]
        }
      ]
    }
  ]
}