{
  "nbformat": 4,
  "nbformat_minor": 0,
  "metadata": {
    "colab": {
      "provenance": [],
      "authorship_tag": "ABX9TyPk9mFICSk7MWZvwqm5SwzJ",
      "include_colab_link": true
    },
    "kernelspec": {
      "name": "python3",
      "display_name": "Python 3"
    },
    "language_info": {
      "name": "python"
    }
  },
  "cells": [
    {
      "cell_type": "markdown",
      "metadata": {
        "id": "view-in-github",
        "colab_type": "text"
      },
      "source": [
        "<a href=\"https://colab.research.google.com/github/MaraAvi1308/SIM_YAC_AVILA_UPSE2023/blob/main/ejercicio2.ipynb\" target=\"_parent\"><img src=\"https://colab.research.google.com/assets/colab-badge.svg\" alt=\"Open In Colab\"/></a>"
      ]
    },
    {
      "cell_type": "code",
      "execution_count": 1,
      "metadata": {
        "colab": {
          "base_uri": "https://localhost:8080/"
        },
        "id": "3rYb-w1qSy96",
        "outputId": "40197998-5c78-47d3-d54c-cc3b5dc72976"
      },
      "outputs": [
        {
          "output_type": "stream",
          "name": "stdout",
          "text": [
            "[1 1 1 1 1 1]\n"
          ]
        }
      ],
      "source": [
        "#Simulador ecuacion de la difusividad\n",
        "import numpy as np\n",
        "L=1000 #distancia total\n",
        "dx=200 #deltax\n",
        "Distance=np.arange(0,L+1,dx) #crear un vector\n",
        "P01=np.ones_like(Distance) #vector inicial de presiones\n",
        "\n",
        "print(P01)\n"
      ]
    },
    {
      "cell_type": "code",
      "source": [
        "PYac=4000\n",
        "PFrontd=0\n",
        "PFronti=0\n",
        "Tiempo=100\n",
        "DT=10\n",
        "\n",
        "Pdt=np.zeros_like(Distance)\n"
      ],
      "metadata": {
        "id": "CRyJSqycUt30"
      },
      "execution_count": 2,
      "outputs": []
    },
    {
      "cell_type": "code",
      "source": [
        "P01=np.ones_like(Distance)\n",
        "P01=P01*PYac\n",
        "P01[0]=PFronti\n",
        "P01[len(P01)-1]=PFrontd \n",
        "P0in=P01\n",
        "Pdt=P01\n",
        "t=DT"
      ],
      "metadata": {
        "id": "H6VMM8lAVAE7"
      },
      "execution_count": 5,
      "outputs": []
    },
    {
      "cell_type": "code",
      "source": [
        "print(P01)"
      ],
      "metadata": {
        "colab": {
          "base_uri": "https://localhost:8080/"
        },
        "id": "bgECRUO2VhIP",
        "outputId": "635974c2-19c9-4bdb-b5d4-46de1d326d07"
      },
      "execution_count": 6,
      "outputs": [
        {
          "output_type": "stream",
          "name": "stdout",
          "text": [
            "[   0 4000 4000 4000 4000    0]\n"
          ]
        }
      ]
    },
    {
      "cell_type": "code",
      "source": [
        "def Presdt(P1,P2,P3,deltat,deltax):\n",
        "  return(((P1-2*P2+P3)/(deltax*deltax))*deltat)+P2"
      ],
      "metadata": {
        "id": "Le7vUxbKW5YT"
      },
      "execution_count": 7,
      "outputs": []
    },
    {
      "cell_type": "code",
      "source": [
        "while t<Tiempo:\n",
        "  for i in range(0,len(P0in)-1):\n",
        "    if i==0:\n",
        "      Pdt[i]=P0in[0]\n",
        "    elif i==len(P0in)-1:\n",
        "        P0in[i]=P0in[len(P0in)-1]\n",
        "    else:\n",
        "        Pdt[i]=Presdt(P0in[i-1],P0in[i],P0in[i+1],DT,dx)\n",
        "  t=t+DT\n",
        "  P0in=Pdt\n",
        "  P01=np.append(P01,Pdt)"
      ],
      "metadata": {
        "id": "raVmlGVwVrpV"
      },
      "execution_count": 12,
      "outputs": []
    },
    {
      "cell_type": "code",
      "source": [
        "print(P01)"
      ],
      "metadata": {
        "colab": {
          "base_uri": "https://localhost:8080/"
        },
        "id": "PaAU2DvRX8pp",
        "outputId": "542e55ca-92c6-42d5-ca22-c4e90394f842"
      },
      "execution_count": 13,
      "outputs": [
        {
          "output_type": "stream",
          "name": "stdout",
          "text": [
            "[   0 3998 3998 3998 3997    0    0 3998 3998 3998 3997    0    0 3997\n",
            " 3997 3997 3996    0    0 3996 3996 3996 3995    0    0 3995 3995 3995\n",
            " 3994    0    0 3994 3994 3994 3993    0    0 3993 3993 3993 3992    0\n",
            "    0 3992 3992 3992 3991    0    0 3991 3991 3991 3990    0]\n"
          ]
        }
      ]
    }
  ]
}